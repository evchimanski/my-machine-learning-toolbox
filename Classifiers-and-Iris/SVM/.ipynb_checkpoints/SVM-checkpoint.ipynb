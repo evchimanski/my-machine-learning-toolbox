{
 "cells": [
  {
   "cell_type": "code",
   "execution_count": 1,
   "id": "f74bb7ab-d758-4ccf-8358-c9cf1ffded3d",
   "metadata": {},
   "outputs": [],
   "source": [
    "# Lets use SVM with different kernels to study a 2d version of the iris data\n",
    "#The linear models LinearSVC() and SVC(kernel='linear') can deliver decision boundaries that have small different. This can be a consequence of the following differences:\n",
    "# The LinearSVC minimizes the squared loss function. The SVC on the other hand minimizes the regular loss function.\n",
    "# The LinearSVC makes use of the One-vs-All scheme and on the other hand SVC uses the One-vs-One "
   ]
  },
  {
   "cell_type": "code",
   "execution_count": 3,
   "id": "fec9f53c-6c01-4a61-b9a4-870cad960b57",
   "metadata": {},
   "outputs": [],
   "source": [
    "from sklearn.datasets import load_iris\n",
    "from sklearn import svm\n",
    "import matplotlib.pyplot as plt\n",
    "import numpy as np\n",
    "\n"
   ]
  },
  {
   "cell_type": "code",
   "execution_count": 4,
   "id": "0eee32f0-86bf-4a99-9b16-95fd5736e780",
   "metadata": {},
   "outputs": [],
   "source": [
    "iris = load_iris()\n",
    "X = iris.data[:,2:] # 2d collect just petal length and widht\n",
    "y = iris.target\n",
    "x1label = iris.feature_names[2:][0]\n",
    "x2label = iris.feature_names[2:][1]\n"
   ]
  },
  {
   "cell_type": "code",
   "execution_count": 20,
   "id": "0084a7c3-7db3-4484-8df4-53e2b8d4e62e",
   "metadata": {},
   "outputs": [],
   "source": [
    "C = 1.0  # SVM regularization parameter\n",
    "\n",
    "model0 = svm.SVC(kernel='linear', C=C)\n",
    "model0_fit = model0.fit(X, y)\n",
    "model1= svm.SVC(kernel='poly', degree=3, gamma='auto', C=C)\n",
    "model1_fit = model1.fit(X, y)\n"
   ]
  },
  {
   "cell_type": "code",
   "execution_count": 18,
   "id": "e87adce5-dbdf-4fc9-bc1e-66cc3fa2948a",
   "metadata": {},
   "outputs": [],
   "source": []
  },
  {
   "cell_type": "code",
   "execution_count": 24,
   "id": "e35b31ba-bbda-43f4-9748-b47115632237",
   "metadata": {},
   "outputs": [
    {
     "data": {
      "text/plain": [
       "Text(0, 0.5, 'Sepal width')"
      ]
     },
     "execution_count": 24,
     "metadata": {},
     "output_type": "execute_result"
    },
    {
     "data": {
      "image/png": "[encoded data removed]",
      "text/plain": [
       "<Figure size 432x288 with 2 Axes>"
      ]
     },
     "metadata": {
      "needs_background": "light"
     },
     "output_type": "display_data"
    }
   ],
   "source": [
    "titles = ('Linear kernel','Polynomial (degree 3) kernel')\n",
    "\n",
    "\n",
    "\n",
    "x_min, x_max = X[:, 0].min() - 1,X[:, 0].max() + 1\n",
    "y_min, y_max = X[:, 1].min() - 1,X[:, 1].max() + 1\n",
    "xx, yy = np.meshgrid(np.arange(x_min, x_max, 0.1),\n",
    "                         np.arange(y_min, y_max, 0.1))\n",
    "    \n",
    "plt.subplot(2, 2,1)\n",
    "title = titles[0]\n",
    "plt.title(title)\n",
    "Z = model0_fit.predict(np.c_[xx.ravel(), yy.ravel()])\n",
    "Z = Z.reshape(xx.shape)\n",
    "plt.contourf(xx, yy, Z, alpha = 0.8)\n",
    "\n",
    "plt.scatter(X[:, 0], X[:, 1], c=y, cmap=plt.cm.coolwarm, s=20, edgecolors='k')\n",
    "plt.xlim(xx.min(), xx.max())\n",
    "plt.ylim(yy.min(), yy.max())\n",
    "plt.xlabel('Sepal length')\n",
    "plt.ylabel('Sepal width')\n",
    "\n",
    "plt.subplot(2, 2,2)\n",
    "title = titles[1]\n",
    "plt.title(title)\n",
    "Z = model1_fit.predict(np.c_[xx.ravel(), yy.ravel()])\n",
    "Z = Z.reshape(xx.shape)\n",
    "plt.contourf(xx, yy, Z, alpha = 0.8)\n",
    "\n",
    "plt.scatter(X[:, 0], X[:, 1], c=y, cmap=plt.cm.coolwarm, s=20, edgecolors='k')\n",
    "plt.xlim(xx.min(), xx.max())\n",
    "plt.ylim(yy.min(), yy.max())\n",
    "plt.xlabel('Sepal length')\n",
    "plt.ylabel('Sepal width')"
   ]
  },
  {
   "cell_type": "code",
   "execution_count": 32,
   "id": "8d9ea65c-9d72-46e4-88fc-7130c8cbfb11",
   "metadata": {},
   "outputs": [
    {
     "name": "stdout",
     "output_type": "stream",
     "text": [
      "SVC 0.9666666666666667\n"
     ]
    }
   ],
   "source": [
    "from sklearn.metrics import accuracy_score\n",
    "model0_fit.predict(X)\n",
    "y_pred = model0_fit.predict(X)\n",
    "print(model0_fit.__class__.__name__,accuracy_score(y,y_pred))"
   ]
  },
  {
   "cell_type": "code",
   "execution_count": 35,
   "id": "4bc0dfaf-ac36-4571-8b40-3eacf303649e",
   "metadata": {},
   "outputs": [
    {
     "name": "stdout",
     "output_type": "stream",
     "text": [
      "Linear kernel SVC 0.97\n",
      "Polynomial (degree 3) kernel SVC 0.96\n"
     ]
    }
   ],
   "source": [
    "# Looking at the plots it seems like we did a great job. Lets see the accuracy of each model\n",
    "\n",
    "models_fit = [model0_fit,model1_fit]\n",
    "for i in range(0,len(models_fit)):\n",
    "    title = titles[i]\n",
    "    model_fit = models_fit[i]\n",
    "    y_pred = model_fit.predict(X)\n",
    "    print(title,model_fit.__class__.__name__,round(accuracy_score(y,y_pred),2))"
   ]
  }
 ],
 "metadata": {
  "jupytext": {
   "formats": "ipynb,auto:light"
  },
  "kernelspec": {
   "display_name": "Python 3 (ipykernel)",
   "language": "python",
   "name": "python3"
  },
  "language_info": {
   "codemirror_mode": {
    "name": "ipython",
    "version": 3
   },
   "file_extension": ".py",
   "mimetype": "text/x-python",
   "name": "python",
   "nbconvert_exporter": "python",
   "pygments_lexer": "ipython3",
   "version": "3.9.7"
  }
 },
 "nbformat": 4,
 "nbformat_minor": 5
}
