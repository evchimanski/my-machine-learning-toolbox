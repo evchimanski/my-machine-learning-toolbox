{
 "cells": [
  {
   "cell_type": "code",
   "execution_count": 12,
   "id": "f74bb7ab-d758-4ccf-8358-c9cf1ffded3d",
   "metadata": {},
   "outputs": [],
   "source": [
    "# Lets use a voting system to increase the accuracy of classification problems.\n",
    "# We can use the classifiers we created (see other projects:\n",
    "# SVM, Logistic Regression, DecisionTree and Random Forest\n"
   ]
  },
  {
   "cell_type": "code",
   "execution_count": 13,
   "id": "fec9f53c-6c01-4a61-b9a4-870cad960b57",
   "metadata": {},
   "outputs": [],
   "source": [
    "from sklearn.datasets import load_iris\n",
    "from sklearn.tree import DecisionTreeClassifier\n",
    "from sklearn.ensemble import RandomForestClassifier\n",
    "\n",
    "from sklearn.linear_model import LogisticRegression\n",
    "from sklearn import svm\n",
    "\n",
    "from sklearn.ensemble import VotingClassifier\n",
    "\n",
    "from sklearn.metrics import accuracy_score\n",
    "\n",
    "\n",
    "import matplotlib.pyplot as plt\n",
    "import numpy as np\n"
   ]
  },
  {
   "cell_type": "code",
   "execution_count": 3,
   "id": "0eee32f0-86bf-4a99-9b16-95fd5736e780",
   "metadata": {},
   "outputs": [],
   "source": [
    "iris = load_iris()\n",
    "X = iris.data[:,2:] # 2d collect just petal length and widht\n",
    "y = iris.target\n",
    "x1label = iris.feature_names[2:][0]\n",
    "x2label = iris.feature_names[2:][1]\n"
   ]
  },
  {
   "cell_type": "code",
   "execution_count": 19,
   "id": "0084a7c3-7db3-4484-8df4-53e2b8d4e62e",
   "metadata": {},
   "outputs": [],
   "source": [
    "models_fit =[]\n",
    "titles = []\n",
    "\n",
    "tree_clf = DecisionTreeClassifier(max_depth=2)\n",
    "tree_clf_fit = tree_clf.fit(X,y)\n",
    "models_fit.append(tree_clf_fit)\n",
    "titles.append(\"DecisionTree\")\n",
    "rnd_clf = RandomForestClassifier(n_estimators = 500,max_leaf_nodes =7,n_jobs = 2)\n",
    "rnd_clf_fit = rnd_clf.fit(X,y)\n",
    "models_fit.append(rnd_clf_fit)\n",
    "titles.append(\"RandomForest\")\n",
    "\n",
    "C = 1.0  # SVM regularization parameter\n",
    "svm_linear_clf = svm.SVC(kernel='linear', C=C)\n",
    "svm_linear_clf_fit = svm_linear_clf.fit(X, y)\n",
    "models_fit.append(svm_linear_clf_fit)\n",
    "titles.append(\"SVMLinear\")\n",
    "\n",
    "svm_poly3= svm.SVC(kernel='poly', degree=3, gamma='auto', C=C)\n",
    "svm_poly3_fit = svm_poly3.fit(X, y)\n",
    "models_fit.append(svm_poly3_fit)\n",
    "titles.append(\"SVMPoly3\")\n",
    "\n",
    "log_clf = LogisticRegression()\n",
    "log_clf_fit = log_clf.fit(X, y)\n",
    "models_fit.append(log_clf_fit)\n",
    "titles.append(\"LogisticRegression\")\n",
    "\n",
    "voting_clf = VotingClassifier(\n",
    "    estimators = [(titles[0],tree_clf),(titles[1],rnd_clf),(titles[2],svm_linear_clf),(titles[3],svm_poly3),(titles[4],log_clf)],\n",
    "    voting ='hard')\n",
    "\n",
    "\n",
    "voting_clf_fit = voting_clf.fit(X, y)\n",
    "models_fit.append(voting_clf_fit)\n",
    "\n",
    "titles.append(\"VotingClassifier\")\n",
    "\n"
   ]
  },
  {
   "cell_type": "code",
   "execution_count": 20,
   "id": "6e593cd5-8223-43e3-b797-1cea43869c67",
   "metadata": {},
   "outputs": [
    {
     "data": {
      "text/plain": [
       "['DecisionTree',\n",
       " 'RandomForest',\n",
       " 'SVMLinear',\n",
       " 'SVMPoly3',\n",
       " 'LogisticRegression',\n",
       " 'VotingClassifier']"
      ]
     },
     "execution_count": 20,
     "metadata": {},
     "output_type": "execute_result"
    }
   ],
   "source": [
    "titles"
   ]
  },
  {
   "cell_type": "code",
   "execution_count": 23,
   "id": "c3f1f135-225d-47f1-8e95-ea748c267f35",
   "metadata": {},
   "outputs": [
    {
     "name": "stdout",
     "output_type": "stream",
     "text": [
      "DecisionTree DecisionTreeClassifier 0.96\n",
      "RandomForest RandomForestClassifier 0.99\n",
      "SVMLinear SVC 0.97\n",
      "SVMPoly3 SVC 0.96\n",
      "LogisticRegression LogisticRegression 0.97\n",
      "VotingClassifier VotingClassifier 0.97\n"
     ]
    }
   ],
   "source": [
    "# Lets see the accuracy\n",
    "for i in range(0,len(models_fit)):\n",
    "    title = titles[i]\n",
    "    model_fit = models_fit[i]\n",
    "    y_pred = model_fit.predict(X)\n",
    "    print(title,model_fit.__class__.__name__,round(accuracy_score(y,y_pred),2))"
   ]
  },
  {
   "cell_type": "code",
   "execution_count": 24,
   "id": "05555c04-36e2-4abe-891e-b14fa5ceb45d",
   "metadata": {},
   "outputs": [],
   "source": [
    "# Here we have seen that the voting classifier has an accuracy slightly better then the averaged accuracy among the individual classifiers\n",
    "# Note that we have the Random Forest taht is probably overfitting the data since we have very deep trees in there\n",
    "# In this way we can expect the voting system to smooth that down and split the resposability of classification among the different models.\n",
    "\n",
    "# Most of the times when the individual classifiers perform as 0.8 - 0.9 the voting system can outperform all of them and increase the accuracy of our\n",
    "# redictions"
   ]
  }
 ],
 "metadata": {
  "jupytext": {
   "formats": "ipynb,auto:light"
  },
  "kernelspec": {
   "display_name": "Python 3 (ipykernel)",
   "language": "python",
   "name": "python3"
  },
  "language_info": {
   "codemirror_mode": {
    "name": "ipython",
    "version": 3
   },
   "file_extension": ".py",
   "mimetype": "text/x-python",
   "name": "python",
   "nbconvert_exporter": "python",
   "pygments_lexer": "ipython3",
   "version": "3.9.7"
  }
 },
 "nbformat": 4,
 "nbformat_minor": 5
}
